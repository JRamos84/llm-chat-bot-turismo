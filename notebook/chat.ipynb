{
 "cells": [
  {
   "cell_type": "markdown",
   "metadata": {},
   "source": [
    "### Chat bot"
   ]
  },
  {
   "cell_type": "code",
   "execution_count": 1,
   "metadata": {},
   "outputs": [],
   "source": [
    "import os\n",
    "from dotenv import load_dotenv\n",
    "\n",
    "from langchain import PromptTemplate, LLMChain\n",
    "\n",
    "load_dotenv()\n",
    "\n",
    "key=os.environ['OPENAI_API_KEY']"
   ]
  },
  {
   "cell_type": "markdown",
   "metadata": {},
   "source": [
    "### Creando un bot simple"
   ]
  },
  {
   "cell_type": "code",
   "execution_count": 8,
   "metadata": {},
   "outputs": [],
   "source": [
    "from langchain.schema import (\n",
    "    AIMessage,\n",
    "    HumanMessage,\n",
    "    SystemMessage\n",
    ")\n",
    "\n",
    "from langchain.chains import LLMChain, ConversationChain\n",
    "from langchain.chat_models import ChatOpenAI\n"
   ]
  },
  {
   "cell_type": "code",
   "execution_count": 10,
   "metadata": {},
   "outputs": [],
   "source": [
    "chat = ChatOpenAI(openai_api_key=key)\n",
    "messages = [\n",
    "    SystemMessage(content= \"Tu eres un asistente que ayuda al usuario a planear y optimizar su itinerario\"),\n",
    "    HumanMessage(content= \"Necesito planear un viaje por 5 días por bariloche, argentina\")\n",
    "]"
   ]
  },
  {
   "cell_type": "code",
   "execution_count": 11,
   "metadata": {},
   "outputs": [
    {
     "name": "stderr",
     "output_type": "stream",
     "text": [
      "/tmp/ipykernel_420324/2042678014.py:1: LangChainDeprecationWarning: The method `BaseChatModel.__call__` was deprecated in langchain-core 0.1.7 and will be removed in 1.0. Use :meth:`~invoke` instead.\n",
      "  output = chat(messages=messages)\n"
     ]
    },
    {
     "name": "stdout",
     "output_type": "stream",
     "text": [
      "content='¡Claro! Para planear un viaje de 5 días por Bariloche, Argentina, te recomendaría considerar las siguientes actividades y lugares para visitar:\\n\\nDía 1:\\n- Llegada a Bariloche\\n- Paseo por el centro de la ciudad\\n- Visita a la Catedral de San Carlos de Bariloche\\n- Disfrutar de una cena en un restaurante local\\n\\nDía 2:\\n- Excursión al Cerro Catedral para disfrutar de la vista panorámica de la ciudad y realizar actividades como trekking o esquí, dependiendo de la temporada\\n- Visita al Lago Gutiérrez para relajarse y disfrutar de la naturaleza\\n\\nDía 3:\\n- Recorrido por la Ruta de los Siete Lagos, visitando lagos como el Nahuel Huapi, Correntoso y Espejo, entre otros\\n- Parada en Villa La Angostura para conocer este pintoresco pueblo\\n\\nDía 4:\\n- Visita al Parque Nacional Nahuel Huapi para realizar actividades al aire libre como senderismo, avistamiento de aves o navegación por el lago\\n- Visita al Cerro Campanario para disfrutar de una vista panorámica de la región\\n\\nDía 5:\\n- Tiempo libre para realizar compras de souvenirs en el centro de la ciudad\\n- Últimos paseos por la zona y disfrutar de la gastronomía local\\n- Regreso a tu lugar de origen\\n\\nRecuerda que estos son solo sugerencias y puedes adaptar el itinerario según tus preferencias y tiempo disponible. También es importante revisar la disponibilidad de actividades y lugares a visitar con anticipación, especialmente si planeas realizar alguna excursión guiada. ¡Espero que disfrutes de tu viaje a Bariloche! ¿Hay algo más en lo que pueda ayudarte?' additional_kwargs={} response_metadata={'token_usage': {'completion_tokens': 415, 'prompt_tokens': 52, 'total_tokens': 467, 'completion_tokens_details': {'accepted_prediction_tokens': 0, 'audio_tokens': 0, 'reasoning_tokens': 0, 'rejected_prediction_tokens': 0}, 'prompt_tokens_details': {'audio_tokens': 0, 'cached_tokens': 0}}, 'model_name': 'gpt-3.5-turbo', 'system_fingerprint': None, 'finish_reason': 'stop', 'logprobs': None} id='run-c1ac9f11-04be-4d54-8b65-bdf151a77edf-0'\n"
     ]
    }
   ],
   "source": [
    "output = chat(messages=messages)\n",
    "print(output)"
   ]
  },
  {
   "cell_type": "markdown",
   "metadata": {},
   "source": [
    "## Sumando memoria"
   ]
  },
  {
   "cell_type": "code",
   "execution_count": 20,
   "metadata": {},
   "outputs": [
    {
     "name": "stderr",
     "output_type": "stream",
     "text": [
      "/tmp/ipykernel_420324/3660914961.py:20: LangChainDeprecationWarning: The class `LLMChain` was deprecated in LangChain 0.1.17 and will be removed in 1.0. Use :meth:`~RunnableSequence, e.g., `prompt | llm`` instead.\n",
      "  conversation = LLMChain(\n"
     ]
    }
   ],
   "source": [
    "from langchain.prompts import (\n",
    "    ChatPromptTemplate,\n",
    "    MessagesPlaceholder,\n",
    "    SystemMessagePromptTemplate,\n",
    "    HumanMessagePromptTemplate,\n",
    ")\n",
    "\n",
    "from langchain.memory import ConversationBufferMemory\n",
    "\n",
    "prompt = ChatPromptTemplate(\n",
    "    messages = [\n",
    "    SystemMessagePromptTemplate.from_template(\"Tu eres un asistente que ayuda al usuario a planear y optimizar su itinerario\"),\n",
    "    MessagesPlaceholder(variable_name = 'chat_history'),\n",
    "    HumanMessagePromptTemplate.from_template(\"{question}\")\n",
    "]\n",
    ")\n",
    "\n",
    "\n",
    "memory = ConversationBufferMemory(memory_key=\"chat_history\", return_messages=True)\n",
    "conversation = LLMChain(\n",
    "    llm=chat,\n",
    "    prompt=prompt,\n",
    "    verbose=False,\n",
    "    memory=memory\n",
    ")"
   ]
  },
  {
   "cell_type": "code",
   "execution_count": 22,
   "metadata": {},
   "outputs": [
    {
     "name": "stdout",
     "output_type": "stream",
     "text": [
      "User:  hola\n",
      "AI system:  ¡Hola! ¿En qué puedo ayudarte hoy?\n",
      "User:  \n",
      "AI system:  ¿Cómo puedo ayudarte a planear tu día o tu viaje? ¿Necesitas información sobre destinos, recomendaciones de actividades o ayuda para organizar tu itinerario? ¡Estoy aquí para ayudarte!\n"
     ]
    }
   ],
   "source": [
    "while True:\n",
    "    query = input('you: ')\n",
    "    if query == 'q':\n",
    "        break\n",
    "    output = conversation({\"question\": query})\n",
    "    print('User: ', query)\n",
    "    print('AI system: ', output['text'])\n",
    "    "
   ]
  },
  {
   "cell_type": "markdown",
   "metadata": {},
   "source": [
    "### Sumando conocimiento no paramétricos"
   ]
  },
  {
   "cell_type": "code",
   "execution_count": 23,
   "metadata": {},
   "outputs": [],
   "source": [
    "from langchain.llms import OpenAI\n",
    "from langchain.chat_models import ChatOpenAI\n",
    "from langchain.embeddings.openai import OpenAIEmbeddings\n",
    "from langchain.text_splitter import RecursiveCharacterTextSplitter\n",
    "from langchain.vectorstores import FAISS\n",
    "from langchain.document_loaders import PyPDFLoader\n",
    "\n",
    "\n"
   ]
  },
  {
   "cell_type": "code",
   "execution_count": 27,
   "metadata": {},
   "outputs": [],
   "source": [
    "text_splitter = RecursiveCharacterTextSplitter(\n",
    "    chunk_size = 1500,\n",
    "    chunk_overlap = 200\n",
    ")\n",
    "\n",
    "raw_documents = PyPDFLoader('../pdf/GuiaViajeBariloche.pdf').load()\n",
    "documents = text_splitter.split_documents(raw_documents)\n",
    "db = FAISS.from_documents(documents, OpenAIEmbeddings())"
   ]
  },
  {
   "cell_type": "code",
   "execution_count": 29,
   "metadata": {},
   "outputs": [
    {
     "name": "stdout",
     "output_type": "stream",
     "text": [
      "\n",
      "\n",
      "\u001b[1m> Entering new StuffDocumentsChain chain...\u001b[0m\n",
      "\n",
      "\n",
      "\u001b[1m> Entering new LLMChain chain...\u001b[0m\n",
      "Prompt after formatting:\n",
      "\u001b[32;1m\u001b[1;3mSystem: Use the following pieces of context to answer the user's question. \n",
      "If you don't know the answer, just say that you don't know, don't try to make up an answer.\n",
      "----------------\n",
      "Sugerimos contratar  \n",
      " \n",
      " \n",
      "Dónde Ir \n",
      "Circuito Chico \n",
      "Un recorrido de paisajes variados que se inicia por el borde del Lago Nahuel Huapi. Lo primero que \n",
      "encontrarás es Playa Bonita, de hermosas aguas azul profundo que se mezclan con el turquesa que \n",
      "llega a sus orillas. Si continuas el camino llegarás a Cerro Campanario, si te animas a llegar a su cumbre, \n",
      "podrás ver casi la totalidad de la región. Podes realiz ar este circuito a pie (hay senderos que guían tu \n",
      "camino) o a caballo. \n",
      " \n",
      "Circuito Grande \n",
      "Abarca 248 kilómetros de miradores, rocas y cerros, b osques tupidos. El punto de partida \n",
      "es Bariloche y ahí debes tomar la ruta Nº 237, hast a el puente del Río Limay. Hasta ahí te habrás \n",
      "maravillado con un cielo de aire puro que contrasta c on el verde del paisaje pero sólo ahí comienza el \n",
      "transcurso hacia la Ruta de los Siete Lagos; siete verdaderos espejos de aguas turquesas y esmeraldas, \n",
      "todos distintos entre sí. Una ruta imperdible que podrá s recorrer en auto, buses de expedición, y si te \n",
      "animas seguir tu propio instinto a pie. \n",
      " \n",
      "Cerro Catedral \n",
      "El Cerro Catedral es uno de los centros de ski más g randes de América del Sur, posee diversas \n",
      "pistas para este deporte, como también para snowboar d. Además, cuenta con una amplia \n",
      "infraestructura hotelera y gastronómica todo mezclado  con una imponente vista desde las alturas. \n",
      "Para el regreso, se puede descender por el Lago Gutiérrez.\n",
      "\n",
      "Sugerimos contratar  \n",
      " \n",
      " \n",
      " \n",
      " \n",
      "GUIA DE VIAJE \n",
      "BARILOCHE\n",
      "\n",
      "Sugerimos contratar  \n",
      " \n",
      " \n",
      "Cerro Otto \n",
      "Ubicado a sólo pasos del Centro de Bariloche, se llega  al teleférico que traslada \n",
      "hasta el Cerro Otto, tras cinco kilómetros de ascens o, se llega al complejo \n",
      "invernal Piedras Blancas, mientras el paisaje de los alrededores comienza a \n",
      "pronunciarse. Desde las alturas se puede observar los  lagos Nahuel \n",
      "Huapi, Gutiérrez y Moreno, además de los cerros Trona dor, Campanario y \n",
      "Catedral. La cumbre del cerro se alcanza a los 1.405 metros de altura, donde se \n",
      "encuentra una confitería y una galería de arte. Ademá s, es posible pasear por el \n",
      "bosque nevado. \n",
      " \n",
      "Camino de los Siete Lagos \n",
      "La ruta que une las ciudades argentinas de San Martín de Los Andes y Villa La Angostura cuenta con \n",
      "el Camino de los Siete Lagos, un recorrido de 107 kil ómetros en el que se observan los \n",
      "lagos Correntoso, Escondido, Lácar, Villarino, Espejo , Falkner y Machónico, todos acompañados de \n",
      "cerros y bosques nevados. El trayecto también atrav iesa los parques nacionales Nahuel Huapi y Lanín.  \n",
      " \n",
      "Que ver \n",
      "Capilla San Eduardo \n",
      "La Capilla San Eduardo de Bariloche es considerada una  joya arquitectónica, su construcción data \n",
      "de 1938, pero su estructura pintoresca y sus maderas r ojizas se conservan perfectamente. Además del \n",
      "valor religioso, es admirada artísticamente, gracias a sus vitrales realizados por destacados artistas \n",
      "visuales. El lugar se encuentra rodeado de parques y b osques que también son parte del atractivo del \n",
      "lugar. \n",
      " \n",
      "Centro Cívico\n",
      "\n",
      "Sugerimos contratar  \n",
      " \n",
      " \n",
      "Bosque Tallado en El Bolsón \n",
      "A 120 kilómetros de Bariloche se encuentra El Bolsón , localidad que cuenta con el \n",
      "reconocido Bosque Tallado, lugar aprovechado por doce artistas, luego que fuese afectado por un \n",
      "incendio que dejó cientos de troncos dispersos por el l ugar, los que fueron tallados. Se trata de \n",
      "árboles en tonos amarillentos, bordeados por el Cerro  Piltriquitrón y el Río Quemquemtreu, que \n",
      "adornan, aún más, el paisaje.  \n",
      "Cómo moverse \n",
      "En Bariloche la mayoría de las distancias son caminab les, en especial lo que es el centro. También \n",
      "existen dos empresas de colectivo que permiten movil izarse por el centro de la ciudad. Otra opción \n",
      "son los taxis, los que, a diferencia de otras ciudades,  no pueden parar en cualquier calle, ya que \n",
      "cuentan con paraderos específicos. \n",
      "Diversas empresas ofrecen remises, que se solicitan  por teléfono, donde también se pueden \n",
      "consultar anticipadamente las tarifas.  \n",
      "La opción más ecológica es alquilar una bicicleta, lo que es posible en el centro de la ciudad.\n",
      "Human: Dame información sobre circuito chico\u001b[0m\n",
      "\n",
      "\u001b[1m> Finished chain.\u001b[0m\n",
      "\n",
      "\u001b[1m> Finished chain.\u001b[0m\n"
     ]
    },
    {
     "data": {
      "text/plain": [
       "'El Circuito Chico es un recorrido de paisajes variados en Bariloche que se inicia por el borde del Lago Nahuel Huapi. En este circuito, encontrarás lugares como Playa Bonita, con hermosas aguas azul profundo, y Cerro Campanario, desde donde se puede disfrutar de una vista panorámica de la región. Puedes realizar este circuito a pie o a caballo. ¡Es una experiencia imperdible para disfrutar de la naturaleza!'"
      ]
     },
     "execution_count": 29,
     "metadata": {},
     "output_type": "execute_result"
    }
   ],
   "source": [
    "from langchain.chains import ConversationalRetrievalChain\n",
    "from langchain.memory import ConversationBufferMemory\n",
    "\n",
    "memory = ConversationBufferMemory(\n",
    "            memory_key='chat_history',\n",
    "            return_messages=True\n",
    "        )\n",
    "\n",
    "llm = ChatOpenAI()\n",
    "qa_chain = ConversationalRetrievalChain.from_llm(llm, retriever=db.as_retriever(), memory=memory, verbose=True)\n",
    "qa_chain.run({'question':'Dame información sobre circuito chico'})"
   ]
  },
  {
   "cell_type": "code",
   "execution_count": 31,
   "metadata": {},
   "outputs": [
    {
     "name": "stdout",
     "output_type": "stream",
     "text": [
      "\n",
      "\n",
      "\u001b[1m> Entering new StuffDocumentsChain chain...\u001b[0m\n",
      "\n",
      "\n",
      "\u001b[1m> Entering new LLMChain chain...\u001b[0m\n",
      "Prompt after formatting:\n",
      "\u001b[32;1m\u001b[1;3mSystem: Use the following pieces of context to answer the user's question. \n",
      "If you don't know the answer, just say that you don't know, don't try to make up an answer.\n",
      "----------------\n",
      "Sugerimos contratar  \n",
      " \n",
      " \n",
      " \n",
      " \n",
      "GUIA DE VIAJE \n",
      "BARILOCHE\n",
      "\n",
      "Sugerimos contratar  \n",
      " \n",
      " \n",
      "Bosque Tallado en El Bolsón \n",
      "A 120 kilómetros de Bariloche se encuentra El Bolsón , localidad que cuenta con el \n",
      "reconocido Bosque Tallado, lugar aprovechado por doce artistas, luego que fuese afectado por un \n",
      "incendio que dejó cientos de troncos dispersos por el l ugar, los que fueron tallados. Se trata de \n",
      "árboles en tonos amarillentos, bordeados por el Cerro  Piltriquitrón y el Río Quemquemtreu, que \n",
      "adornan, aún más, el paisaje.  \n",
      "Cómo moverse \n",
      "En Bariloche la mayoría de las distancias son caminab les, en especial lo que es el centro. También \n",
      "existen dos empresas de colectivo que permiten movil izarse por el centro de la ciudad. Otra opción \n",
      "son los taxis, los que, a diferencia de otras ciudades,  no pueden parar en cualquier calle, ya que \n",
      "cuentan con paraderos específicos. \n",
      "Diversas empresas ofrecen remises, que se solicitan  por teléfono, donde también se pueden \n",
      "consultar anticipadamente las tarifas.  \n",
      "La opción más ecológica es alquilar una bicicleta, lo que es posible en el centro de la ciudad.\n",
      "\n",
      "Sugerimos contratar  \n",
      " \n",
      " \n",
      "Dónde Ir \n",
      "Circuito Chico \n",
      "Un recorrido de paisajes variados que se inicia por el borde del Lago Nahuel Huapi. Lo primero que \n",
      "encontrarás es Playa Bonita, de hermosas aguas azul profundo que se mezclan con el turquesa que \n",
      "llega a sus orillas. Si continuas el camino llegarás a Cerro Campanario, si te animas a llegar a su cumbre, \n",
      "podrás ver casi la totalidad de la región. Podes realiz ar este circuito a pie (hay senderos que guían tu \n",
      "camino) o a caballo. \n",
      " \n",
      "Circuito Grande \n",
      "Abarca 248 kilómetros de miradores, rocas y cerros, b osques tupidos. El punto de partida \n",
      "es Bariloche y ahí debes tomar la ruta Nº 237, hast a el puente del Río Limay. Hasta ahí te habrás \n",
      "maravillado con un cielo de aire puro que contrasta c on el verde del paisaje pero sólo ahí comienza el \n",
      "transcurso hacia la Ruta de los Siete Lagos; siete verdaderos espejos de aguas turquesas y esmeraldas, \n",
      "todos distintos entre sí. Una ruta imperdible que podrá s recorrer en auto, buses de expedición, y si te \n",
      "animas seguir tu propio instinto a pie. \n",
      " \n",
      "Cerro Catedral \n",
      "El Cerro Catedral es uno de los centros de ski más g randes de América del Sur, posee diversas \n",
      "pistas para este deporte, como también para snowboar d. Además, cuenta con una amplia \n",
      "infraestructura hotelera y gastronómica todo mezclado  con una imponente vista desde las alturas. \n",
      "Para el regreso, se puede descender por el Lago Gutiérrez.\n",
      "\n",
      "Bariloche cuenta con un importante número de museos,  mercados y ferias que dan cuenta de \n",
      "todo el valor histórico, artístico y artesanal de est as patagónicas tierras. Un clásico imperdible es \n",
      "el Museo de la Patagonia y el salón de exposiciones A sociación de Artesanos de Bariloche donde \n",
      "podrás apreciar y comprar los objetos creados por artistas de la zona. \n",
      " \n",
      "Expediciones \n",
      "Los sectores aledaños al centro de Bariloche son un t estimonio natural que debes conocer, tenes \n",
      "que recorrer los cerros, lagos y sus islas. Existen  dos circuitos; el Chico y Grande; los dos contemplan \n",
      "maravillosos paisajes naturales que podrás caminarlos a pie.\n",
      "Human: que hay en estado unidos?\u001b[0m\n",
      "\n",
      "\u001b[1m> Finished chain.\u001b[0m\n",
      "\n",
      "\u001b[1m> Finished chain.\u001b[0m\n"
     ]
    },
    {
     "data": {
      "text/plain": [
       "'No tengo información sobre lugares en Estados Unidos, mi conocimiento se basa en la información proporcionada sobre Bariloche en Argentina. ¿Hay algo más en lo que pueda ayudarte?'"
      ]
     },
     "execution_count": 31,
     "metadata": {},
     "output_type": "execute_result"
    }
   ],
   "source": [
    "from langchain.prompts.prompt import PromptTemplate\n",
    "\n",
    "custom_template = \"\"\"Dada la siguiente conversación y una pregunta complementaria, reformule la pregunta complementaria para que sea una pregunta independiente.\n",
    "Si no encuentra la respuesta en el documento proporcionado, ignórelo y responda de todos modos.\n",
    "Chat History:\n",
    "{chat_history}\n",
    "Follow Up Input: {question}\n",
    "Standalone question:\"\"\"\n",
    "\n",
    "CUSTOM_QUESTION_PROMPT = PromptTemplate.from_template(custom_template)\n",
    "\n",
    "memory = ConversationBufferMemory(\n",
    "            memory_key='chat_history',\n",
    "            return_messages=True\n",
    "        )\n",
    "\n",
    "\n",
    "qa_chain = ConversationalRetrievalChain.from_llm(llm, retriever=db.as_retriever(), condense_question_prompt=CUSTOM_QUESTION_PROMPT, memory=memory, verbose=True)\n",
    "qa_chain.run({'question':'que hay en estado unidos?'})"
   ]
  },
  {
   "cell_type": "markdown",
   "metadata": {},
   "source": [
    "### Agente"
   ]
  },
  {
   "cell_type": "code",
   "execution_count": 33,
   "metadata": {},
   "outputs": [],
   "source": [
    "from langchain.agents.agent_toolkits import create_retriever_tool\n",
    "\n",
    "tool = create_retriever_tool(\n",
    "    db.as_retriever(),\n",
    "    \"GuiaViajeBariloche\",\n",
    "    \"Buscar y retornar documentos que sobre Bariloche\"\n",
    ")\n",
    "\n",
    "tools = [tool]\n",
    "\n",
    "memory = ConversationBufferMemory(\n",
    "    memory_key='chat_history',\n",
    "    return_messages=True\n",
    ")\n",
    "\n",
    "from langchain.agents.agent_toolkits import create_conversational_retrieval_agent\n",
    "\n",
    "from langchain.chat_models import ChatOpenAI\n",
    "llm = ChatOpenAI(openai_api_key=key, temperature = 0)\n",
    "\n",
    "agent_executor = create_conversational_retrieval_agent(\n",
    "    llm=llm,\n",
    "    tools=tools,\n",
    "    memory_key='chat_history',\n",
    "    verbose=True\n",
    ")\n"
   ]
  },
  {
   "cell_type": "code",
   "execution_count": 35,
   "metadata": {},
   "outputs": [
    {
     "name": "stdout",
     "output_type": "stream",
     "text": [
      "\n",
      "\n",
      "\u001b[1m> Entering new AgentExecutor chain...\u001b[0m\n",
      "\u001b[32;1m\u001b[1;3mHola Jose! ¿En qué puedo ayudarte hoy?\u001b[0m\n",
      "\n",
      "\u001b[1m> Finished chain.\u001b[0m\n"
     ]
    },
    {
     "data": {
      "text/plain": [
       "{'input': 'Hola, yo soy jose',\n",
       " 'chat_history': [HumanMessage(content=\"hi, i'm Vale\", additional_kwargs={}, response_metadata={}),\n",
       "  AIMessage(content='Hello Vale! How can I assist you today?', additional_kwargs={}, response_metadata={}),\n",
       "  HumanMessage(content='Hola, yo soy jose', additional_kwargs={}, response_metadata={}),\n",
       "  AIMessage(content='Hola Jose! ¿En qué puedo ayudarte hoy?', additional_kwargs={}, response_metadata={})],\n",
       " 'output': 'Hola Jose! ¿En qué puedo ayudarte hoy?',\n",
       " 'intermediate_steps': []}"
      ]
     },
     "execution_count": 35,
     "metadata": {},
     "output_type": "execute_result"
    }
   ],
   "source": [
    "agent_executor({\"input\": \"Hola, yo soy jose\"})"
   ]
  },
  {
   "cell_type": "code",
   "execution_count": 36,
   "metadata": {},
   "outputs": [
    {
     "name": "stdout",
     "output_type": "stream",
     "text": [
      "\n",
      "\n",
      "\u001b[1m> Entering new AgentExecutor chain...\u001b[0m\n",
      "\u001b[32;1m\u001b[1;3m\n",
      "Invoking: `GuiaViajeBariloche` with `{'query': 'Bariloche'}`\n",
      "\n",
      "\n",
      "\u001b[0m\u001b[36;1m\u001b[1;3mBariloche cuenta con un importante número de museos,  mercados y ferias que dan cuenta de \n",
      "todo el valor histórico, artístico y artesanal de est as patagónicas tierras. Un clásico imperdible es \n",
      "el Museo de la Patagonia y el salón de exposiciones A sociación de Artesanos de Bariloche donde \n",
      "podrás apreciar y comprar los objetos creados por artistas de la zona. \n",
      " \n",
      "Expediciones \n",
      "Los sectores aledaños al centro de Bariloche son un t estimonio natural que debes conocer, tenes \n",
      "que recorrer los cerros, lagos y sus islas. Existen  dos circuitos; el Chico y Grande; los dos contemplan \n",
      "maravillosos paisajes naturales que podrás caminarlos a pie.\n",
      "\n",
      "Sugerimos contratar  \n",
      " \n",
      " \n",
      "Dónde Ir \n",
      "Circuito Chico \n",
      "Un recorrido de paisajes variados que se inicia por el borde del Lago Nahuel Huapi. Lo primero que \n",
      "encontrarás es Playa Bonita, de hermosas aguas azul profundo que se mezclan con el turquesa que \n",
      "llega a sus orillas. Si continuas el camino llegarás a Cerro Campanario, si te animas a llegar a su cumbre, \n",
      "podrás ver casi la totalidad de la región. Podes realiz ar este circuito a pie (hay senderos que guían tu \n",
      "camino) o a caballo. \n",
      " \n",
      "Circuito Grande \n",
      "Abarca 248 kilómetros de miradores, rocas y cerros, b osques tupidos. El punto de partida \n",
      "es Bariloche y ahí debes tomar la ruta Nº 237, hast a el puente del Río Limay. Hasta ahí te habrás \n",
      "maravillado con un cielo de aire puro que contrasta c on el verde del paisaje pero sólo ahí comienza el \n",
      "transcurso hacia la Ruta de los Siete Lagos; siete verdaderos espejos de aguas turquesas y esmeraldas, \n",
      "todos distintos entre sí. Una ruta imperdible que podrá s recorrer en auto, buses de expedición, y si te \n",
      "animas seguir tu propio instinto a pie. \n",
      " \n",
      "Cerro Catedral \n",
      "El Cerro Catedral es uno de los centros de ski más g randes de América del Sur, posee diversas \n",
      "pistas para este deporte, como también para snowboar d. Además, cuenta con una amplia \n",
      "infraestructura hotelera y gastronómica todo mezclado  con una imponente vista desde las alturas. \n",
      "Para el regreso, se puede descender por el Lago Gutiérrez.\n",
      "\n",
      "Sugerimos contratar  \n",
      " \n",
      " \n",
      "BARILOCHE \n",
      "Bariloche ofrece una arquitectura única mezclando ma deras y piedras, facilidad para practicar \n",
      "deportes outdoors y aventuras, además probarás una gas tronomía excelente; mezcla europea y \n",
      "argentina, de donde nacen los chocolates más reconocidos de Argentina.  \n",
      "Aire puro, paisajes recónditos y un pueblo en donde se  respira tranquilidad... Bariloche es mucho \n",
      "más que una pequeña ciudad en las tierras patagónicas . Es un mundo perfectamente ordenado y \n",
      "hermoso que debes conocer.  \n",
      " \n",
      "Actividades Generales \n",
      "Deportes \n",
      "Gracias a su diversidad de paisajes y entornos natural es, Bariloche es una ciudad ideal para \n",
      "practicar todo tipo de deportes. Desde esquí en el invi erno, cuando las montañas de la Cordillera de \n",
      "los Andes posan blancas, hasta practicar trekking po r sus hermosos bosques. Sus lagos y ríos son el \n",
      "escenario preciso para los amantes de la pesca artesanal. \n",
      " \n",
      "Gastronomía \n",
      "La cocina en Bariloche es testigo de los antepasados europeos, italianos, alemanes y suizos, con la \n",
      "mezcla de los patagónicos argentinos. Probarás exqui sitas parrillas, asados de cordero al palo y pizzas \n",
      "pero si en algo se ha especializado esta ciudad es en  la fabricación de chocolates artesanales, los más \n",
      "reconocidos de Argentina. \n",
      "             \n",
      "Arte \n",
      "Bariloche cuenta con un importante número de museos,  mercados y ferias que dan cuenta de \n",
      "todo el valor histórico, artístico y artesanal de est as patagónicas tierras. Un clásico imperdible es\n",
      "\n",
      "Sugerimos contratar  \n",
      " \n",
      " \n",
      "Bosque Tallado en El Bolsón \n",
      "A 120 kilómetros de Bariloche se encuentra El Bolsón , localidad que cuenta con el \n",
      "reconocido Bosque Tallado, lugar aprovechado por doce artistas, luego que fuese afectado por un \n",
      "incendio que dejó cientos de troncos dispersos por el l ugar, los que fueron tallados. Se trata de \n",
      "árboles en tonos amarillentos, bordeados por el Cerro  Piltriquitrón y el Río Quemquemtreu, que \n",
      "adornan, aún más, el paisaje.  \n",
      "Cómo moverse \n",
      "En Bariloche la mayoría de las distancias son caminab les, en especial lo que es el centro. También \n",
      "existen dos empresas de colectivo que permiten movil izarse por el centro de la ciudad. Otra opción \n",
      "son los taxis, los que, a diferencia de otras ciudades,  no pueden parar en cualquier calle, ya que \n",
      "cuentan con paraderos específicos. \n",
      "Diversas empresas ofrecen remises, que se solicitan  por teléfono, donde también se pueden \n",
      "consultar anticipadamente las tarifas.  \n",
      "La opción más ecológica es alquilar una bicicleta, lo que es posible en el centro de la ciudad.\u001b[0m\u001b[32;1m\u001b[1;3mBariloche es una ciudad ubicada en la región de la Patagonia argentina, conocida por su belleza natural y sus actividades al aire libre. Aquí te dejo algunas cosas que puedes hacer y lugares que puedes visitar en Bariloche:\n",
      "\n",
      "1. **Museos y Ferias:** Bariloche cuenta con una variedad de museos, mercados y ferias que muestran el valor histórico, artístico y artesanal de la región. Puedes visitar el Museo de la Patagonia y la Asociación de Artesanos de Bariloche para apreciar y comprar objetos creados por artistas locales.\n",
      "\n",
      "2. **Expediciones:** Los alrededores de Bariloche ofrecen paisajes naturales impresionantes que puedes explorar. Hay dos circuitos principales, el Circuito Chico y el Circuito Grande, que te llevarán a través de cerros, lagos y bosques.\n",
      "\n",
      "3. **Cerro Catedral:** Este es uno de los centros de esquí más grandes de América del Sur, con pistas para esquiar y hacer snowboard. Además, ofrece una amplia infraestructura hotelera y gastronómica con vistas impresionantes desde las alturas.\n",
      "\n",
      "4. **Actividades al aire libre:** Bariloche es ideal para practicar una variedad de deportes, desde esquí en invierno hasta trekking en sus bosques. También es un lugar perfecto para los amantes de la pesca artesanal.\n",
      "\n",
      "5. **Gastronomía:** La cocina en Bariloche refleja la influencia de los antepasados europeos y patagónicos argentinos. Podrás disfrutar de parrillas, asados de cordero, pizzas y, especialmente, de los chocolates artesanales más reconocidos de Argentina.\n",
      "\n",
      "6. **Arte y Cultura:** La ciudad cuenta con una variedad de museos, mercados y ferias que muestran la historia, el arte y la artesanía de la región. No te pierdas el Bosque Tallado en El Bolsón, a 120 kilómetros de Bariloche, donde artistas han tallado troncos dispersos por la zona.\n",
      "\n",
      "Para moverte por Bariloche, la mayoría de las distancias son caminables, especialmente en el centro. También puedes utilizar el transporte público, taxis, remises o alquilar una bicicleta para explorar la ciudad de manera ecológica. ¡Espero que esta información te sea útil para planificar tu visita a Bariloche!\u001b[0m\n",
      "\n",
      "\u001b[1m> Finished chain.\u001b[0m\n"
     ]
    },
    {
     "data": {
      "text/plain": [
       "{'input': 'Que me puedes decir de bariloche',\n",
       " 'chat_history': [HumanMessage(content='Hola, yo soy jose', additional_kwargs={}, response_metadata={}),\n",
       "  AIMessage(content='Hola Jose! ¿En qué puedo ayudarte hoy?', additional_kwargs={}, response_metadata={}),\n",
       "  HumanMessage(content='Que me puedes decir de bariloche', additional_kwargs={}, response_metadata={}),\n",
       "  AIMessage(content='', additional_kwargs={'function_call': {'arguments': '{\"query\":\"Bariloche\"}', 'name': 'GuiaViajeBariloche'}}, response_metadata={'token_usage': {'completion_tokens': 23, 'prompt_tokens': 145, 'total_tokens': 168, 'completion_tokens_details': {'accepted_prediction_tokens': 0, 'audio_tokens': 0, 'reasoning_tokens': 0, 'rejected_prediction_tokens': 0}, 'prompt_tokens_details': {'audio_tokens': 0, 'cached_tokens': 0}}, 'model_name': 'gpt-3.5-turbo', 'system_fingerprint': None, 'finish_reason': 'function_call', 'logprobs': None}, id='run-e3841b65-03b7-4a6b-b60f-42784e26e4fb-0'),\n",
       "  FunctionMessage(content='Bariloche cuenta con un importante número de museos,  mercados y ferias que dan cuenta de \\ntodo el valor histórico, artístico y artesanal de est as patagónicas tierras. Un clásico imperdible es \\nel Museo de la Patagonia y el salón de exposiciones A sociación de Artesanos de Bariloche donde \\npodrás apreciar y comprar los objetos creados por artistas de la zona. \\n \\nExpediciones \\nLos sectores aledaños al centro de Bariloche son un t estimonio natural que debes conocer, tenes \\nque recorrer los cerros, lagos y sus islas. Existen  dos circuitos; el Chico y Grande; los dos contemplan \\nmaravillosos paisajes naturales que podrás caminarlos a pie.\\n\\nSugerimos contratar  \\n \\n \\nDónde Ir \\nCircuito Chico \\nUn recorrido de paisajes variados que se inicia por el borde del Lago Nahuel Huapi. Lo primero que \\nencontrarás es Playa Bonita, de hermosas aguas azul profundo que se mezclan con el turquesa que \\nllega a sus orillas. Si continuas el camino llegarás a Cerro Campanario, si te animas a llegar a su cumbre, \\npodrás ver casi la totalidad de la región. Podes realiz ar este circuito a pie (hay senderos que guían tu \\ncamino) o a caballo. \\n \\nCircuito Grande \\nAbarca 248 kilómetros de miradores, rocas y cerros, b osques tupidos. El punto de partida \\nes Bariloche y ahí debes tomar la ruta Nº 237, hast a el puente del Río Limay. Hasta ahí te habrás \\nmaravillado con un cielo de aire puro que contrasta c on el verde del paisaje pero sólo ahí comienza el \\ntranscurso hacia la Ruta de los Siete Lagos; siete verdaderos espejos de aguas turquesas y esmeraldas, \\ntodos distintos entre sí. Una ruta imperdible que podrá s recorrer en auto, buses de expedición, y si te \\nanimas seguir tu propio instinto a pie. \\n \\nCerro Catedral \\nEl Cerro Catedral es uno de los centros de ski más g randes de América del Sur, posee diversas \\npistas para este deporte, como también para snowboar d. Además, cuenta con una amplia \\ninfraestructura hotelera y gastronómica todo mezclado  con una imponente vista desde las alturas. \\nPara el regreso, se puede descender por el Lago Gutiérrez.\\n\\nSugerimos contratar  \\n \\n \\nBARILOCHE \\nBariloche ofrece una arquitectura única mezclando ma deras y piedras, facilidad para practicar \\ndeportes outdoors y aventuras, además probarás una gas tronomía excelente; mezcla europea y \\nargentina, de donde nacen los chocolates más reconocidos de Argentina.  \\nAire puro, paisajes recónditos y un pueblo en donde se  respira tranquilidad... Bariloche es mucho \\nmás que una pequeña ciudad en las tierras patagónicas . Es un mundo perfectamente ordenado y \\nhermoso que debes conocer.  \\n \\nActividades Generales \\nDeportes \\nGracias a su diversidad de paisajes y entornos natural es, Bariloche es una ciudad ideal para \\npracticar todo tipo de deportes. Desde esquí en el invi erno, cuando las montañas de la Cordillera de \\nlos Andes posan blancas, hasta practicar trekking po r sus hermosos bosques. Sus lagos y ríos son el \\nescenario preciso para los amantes de la pesca artesanal. \\n \\nGastronomía \\nLa cocina en Bariloche es testigo de los antepasados europeos, italianos, alemanes y suizos, con la \\nmezcla de los patagónicos argentinos. Probarás exqui sitas parrillas, asados de cordero al palo y pizzas \\npero si en algo se ha especializado esta ciudad es en  la fabricación de chocolates artesanales, los más \\nreconocidos de Argentina. \\n             \\nArte \\nBariloche cuenta con un importante número de museos,  mercados y ferias que dan cuenta de \\ntodo el valor histórico, artístico y artesanal de est as patagónicas tierras. Un clásico imperdible es\\n\\nSugerimos contratar  \\n \\n \\nBosque Tallado en El Bolsón \\nA 120 kilómetros de Bariloche se encuentra El Bolsón , localidad que cuenta con el \\nreconocido Bosque Tallado, lugar aprovechado por doce artistas, luego que fuese afectado por un \\nincendio que dejó cientos de troncos dispersos por el l ugar, los que fueron tallados. Se trata de \\nárboles en tonos amarillentos, bordeados por el Cerro  Piltriquitrón y el Río Quemquemtreu, que \\nadornan, aún más, el paisaje.  \\nCómo moverse \\nEn Bariloche la mayoría de las distancias son caminab les, en especial lo que es el centro. También \\nexisten dos empresas de colectivo que permiten movil izarse por el centro de la ciudad. Otra opción \\nson los taxis, los que, a diferencia de otras ciudades,  no pueden parar en cualquier calle, ya que \\ncuentan con paraderos específicos. \\nDiversas empresas ofrecen remises, que se solicitan  por teléfono, donde también se pueden \\nconsultar anticipadamente las tarifas.  \\nLa opción más ecológica es alquilar una bicicleta, lo que es posible en el centro de la ciudad.', additional_kwargs={}, response_metadata={}, name='GuiaViajeBariloche'),\n",
       "  AIMessage(content='Bariloche es una ciudad ubicada en la región de la Patagonia argentina, conocida por su belleza natural y sus actividades al aire libre. Aquí te dejo algunas cosas que puedes hacer y lugares que puedes visitar en Bariloche:\\n\\n1. **Museos y Ferias:** Bariloche cuenta con una variedad de museos, mercados y ferias que muestran el valor histórico, artístico y artesanal de la región. Puedes visitar el Museo de la Patagonia y la Asociación de Artesanos de Bariloche para apreciar y comprar objetos creados por artistas locales.\\n\\n2. **Expediciones:** Los alrededores de Bariloche ofrecen paisajes naturales impresionantes que puedes explorar. Hay dos circuitos principales, el Circuito Chico y el Circuito Grande, que te llevarán a través de cerros, lagos y bosques.\\n\\n3. **Cerro Catedral:** Este es uno de los centros de esquí más grandes de América del Sur, con pistas para esquiar y hacer snowboard. Además, ofrece una amplia infraestructura hotelera y gastronómica con vistas impresionantes desde las alturas.\\n\\n4. **Actividades al aire libre:** Bariloche es ideal para practicar una variedad de deportes, desde esquí en invierno hasta trekking en sus bosques. También es un lugar perfecto para los amantes de la pesca artesanal.\\n\\n5. **Gastronomía:** La cocina en Bariloche refleja la influencia de los antepasados europeos y patagónicos argentinos. Podrás disfrutar de parrillas, asados de cordero, pizzas y, especialmente, de los chocolates artesanales más reconocidos de Argentina.\\n\\n6. **Arte y Cultura:** La ciudad cuenta con una variedad de museos, mercados y ferias que muestran la historia, el arte y la artesanía de la región. No te pierdas el Bosque Tallado en El Bolsón, a 120 kilómetros de Bariloche, donde artistas han tallado troncos dispersos por la zona.\\n\\nPara moverte por Bariloche, la mayoría de las distancias son caminables, especialmente en el centro. También puedes utilizar el transporte público, taxis, remises o alquilar una bicicleta para explorar la ciudad de manera ecológica. ¡Espero que esta información te sea útil para planificar tu visita a Bariloche!', additional_kwargs={}, response_metadata={})],\n",
       " 'output': 'Bariloche es una ciudad ubicada en la región de la Patagonia argentina, conocida por su belleza natural y sus actividades al aire libre. Aquí te dejo algunas cosas que puedes hacer y lugares que puedes visitar en Bariloche:\\n\\n1. **Museos y Ferias:** Bariloche cuenta con una variedad de museos, mercados y ferias que muestran el valor histórico, artístico y artesanal de la región. Puedes visitar el Museo de la Patagonia y la Asociación de Artesanos de Bariloche para apreciar y comprar objetos creados por artistas locales.\\n\\n2. **Expediciones:** Los alrededores de Bariloche ofrecen paisajes naturales impresionantes que puedes explorar. Hay dos circuitos principales, el Circuito Chico y el Circuito Grande, que te llevarán a través de cerros, lagos y bosques.\\n\\n3. **Cerro Catedral:** Este es uno de los centros de esquí más grandes de América del Sur, con pistas para esquiar y hacer snowboard. Además, ofrece una amplia infraestructura hotelera y gastronómica con vistas impresionantes desde las alturas.\\n\\n4. **Actividades al aire libre:** Bariloche es ideal para practicar una variedad de deportes, desde esquí en invierno hasta trekking en sus bosques. También es un lugar perfecto para los amantes de la pesca artesanal.\\n\\n5. **Gastronomía:** La cocina en Bariloche refleja la influencia de los antepasados europeos y patagónicos argentinos. Podrás disfrutar de parrillas, asados de cordero, pizzas y, especialmente, de los chocolates artesanales más reconocidos de Argentina.\\n\\n6. **Arte y Cultura:** La ciudad cuenta con una variedad de museos, mercados y ferias que muestran la historia, el arte y la artesanía de la región. No te pierdas el Bosque Tallado en El Bolsón, a 120 kilómetros de Bariloche, donde artistas han tallado troncos dispersos por la zona.\\n\\nPara moverte por Bariloche, la mayoría de las distancias son caminables, especialmente en el centro. También puedes utilizar el transporte público, taxis, remises o alquilar una bicicleta para explorar la ciudad de manera ecológica. ¡Espero que esta información te sea útil para planificar tu visita a Bariloche!',\n",
       " 'intermediate_steps': [(AgentActionMessageLog(tool='GuiaViajeBariloche', tool_input={'query': 'Bariloche'}, log=\"\\nInvoking: `GuiaViajeBariloche` with `{'query': 'Bariloche'}`\\n\\n\\n\", message_log=[AIMessage(content='', additional_kwargs={'function_call': {'arguments': '{\"query\":\"Bariloche\"}', 'name': 'GuiaViajeBariloche'}}, response_metadata={'token_usage': {'completion_tokens': 23, 'prompt_tokens': 145, 'total_tokens': 168, 'completion_tokens_details': {'accepted_prediction_tokens': 0, 'audio_tokens': 0, 'reasoning_tokens': 0, 'rejected_prediction_tokens': 0}, 'prompt_tokens_details': {'audio_tokens': 0, 'cached_tokens': 0}}, 'model_name': 'gpt-3.5-turbo', 'system_fingerprint': None, 'finish_reason': 'function_call', 'logprobs': None}, id='run-e3841b65-03b7-4a6b-b60f-42784e26e4fb-0')]),\n",
       "   'Bariloche cuenta con un importante número de museos,  mercados y ferias que dan cuenta de \\ntodo el valor histórico, artístico y artesanal de est as patagónicas tierras. Un clásico imperdible es \\nel Museo de la Patagonia y el salón de exposiciones A sociación de Artesanos de Bariloche donde \\npodrás apreciar y comprar los objetos creados por artistas de la zona. \\n \\nExpediciones \\nLos sectores aledaños al centro de Bariloche son un t estimonio natural que debes conocer, tenes \\nque recorrer los cerros, lagos y sus islas. Existen  dos circuitos; el Chico y Grande; los dos contemplan \\nmaravillosos paisajes naturales que podrás caminarlos a pie.\\n\\nSugerimos contratar  \\n \\n \\nDónde Ir \\nCircuito Chico \\nUn recorrido de paisajes variados que se inicia por el borde del Lago Nahuel Huapi. Lo primero que \\nencontrarás es Playa Bonita, de hermosas aguas azul profundo que se mezclan con el turquesa que \\nllega a sus orillas. Si continuas el camino llegarás a Cerro Campanario, si te animas a llegar a su cumbre, \\npodrás ver casi la totalidad de la región. Podes realiz ar este circuito a pie (hay senderos que guían tu \\ncamino) o a caballo. \\n \\nCircuito Grande \\nAbarca 248 kilómetros de miradores, rocas y cerros, b osques tupidos. El punto de partida \\nes Bariloche y ahí debes tomar la ruta Nº 237, hast a el puente del Río Limay. Hasta ahí te habrás \\nmaravillado con un cielo de aire puro que contrasta c on el verde del paisaje pero sólo ahí comienza el \\ntranscurso hacia la Ruta de los Siete Lagos; siete verdaderos espejos de aguas turquesas y esmeraldas, \\ntodos distintos entre sí. Una ruta imperdible que podrá s recorrer en auto, buses de expedición, y si te \\nanimas seguir tu propio instinto a pie. \\n \\nCerro Catedral \\nEl Cerro Catedral es uno de los centros de ski más g randes de América del Sur, posee diversas \\npistas para este deporte, como también para snowboar d. Además, cuenta con una amplia \\ninfraestructura hotelera y gastronómica todo mezclado  con una imponente vista desde las alturas. \\nPara el regreso, se puede descender por el Lago Gutiérrez.\\n\\nSugerimos contratar  \\n \\n \\nBARILOCHE \\nBariloche ofrece una arquitectura única mezclando ma deras y piedras, facilidad para practicar \\ndeportes outdoors y aventuras, además probarás una gas tronomía excelente; mezcla europea y \\nargentina, de donde nacen los chocolates más reconocidos de Argentina.  \\nAire puro, paisajes recónditos y un pueblo en donde se  respira tranquilidad... Bariloche es mucho \\nmás que una pequeña ciudad en las tierras patagónicas . Es un mundo perfectamente ordenado y \\nhermoso que debes conocer.  \\n \\nActividades Generales \\nDeportes \\nGracias a su diversidad de paisajes y entornos natural es, Bariloche es una ciudad ideal para \\npracticar todo tipo de deportes. Desde esquí en el invi erno, cuando las montañas de la Cordillera de \\nlos Andes posan blancas, hasta practicar trekking po r sus hermosos bosques. Sus lagos y ríos son el \\nescenario preciso para los amantes de la pesca artesanal. \\n \\nGastronomía \\nLa cocina en Bariloche es testigo de los antepasados europeos, italianos, alemanes y suizos, con la \\nmezcla de los patagónicos argentinos. Probarás exqui sitas parrillas, asados de cordero al palo y pizzas \\npero si en algo se ha especializado esta ciudad es en  la fabricación de chocolates artesanales, los más \\nreconocidos de Argentina. \\n             \\nArte \\nBariloche cuenta con un importante número de museos,  mercados y ferias que dan cuenta de \\ntodo el valor histórico, artístico y artesanal de est as patagónicas tierras. Un clásico imperdible es\\n\\nSugerimos contratar  \\n \\n \\nBosque Tallado en El Bolsón \\nA 120 kilómetros de Bariloche se encuentra El Bolsón , localidad que cuenta con el \\nreconocido Bosque Tallado, lugar aprovechado por doce artistas, luego que fuese afectado por un \\nincendio que dejó cientos de troncos dispersos por el l ugar, los que fueron tallados. Se trata de \\nárboles en tonos amarillentos, bordeados por el Cerro  Piltriquitrón y el Río Quemquemtreu, que \\nadornan, aún más, el paisaje.  \\nCómo moverse \\nEn Bariloche la mayoría de las distancias son caminab les, en especial lo que es el centro. También \\nexisten dos empresas de colectivo que permiten movil izarse por el centro de la ciudad. Otra opción \\nson los taxis, los que, a diferencia de otras ciudades,  no pueden parar en cualquier calle, ya que \\ncuentan con paraderos específicos. \\nDiversas empresas ofrecen remises, que se solicitan  por teléfono, donde también se pueden \\nconsultar anticipadamente las tarifas.  \\nLa opción más ecológica es alquilar una bicicleta, lo que es posible en el centro de la ciudad.')]}"
      ]
     },
     "execution_count": 36,
     "metadata": {},
     "output_type": "execute_result"
    }
   ],
   "source": [
    "agent_executor({\"input\": \"Que me puedes decir de bariloche\"})"
   ]
  },
  {
   "cell_type": "code",
   "execution_count": 37,
   "metadata": {},
   "outputs": [
    {
     "name": "stdout",
     "output_type": "stream",
     "text": [
      "\n",
      "\n",
      "\u001b[1m> Entering new AgentExecutor chain...\u001b[0m\n",
      "\u001b[32;1m\u001b[1;3m\n",
      "Invoking: `GuiaViajeBariloche` with `{'query': 'Jamaica'}`\n",
      "\n",
      "\n",
      "\u001b[0m\u001b[36;1m\u001b[1;3mSugerimos contratar  \n",
      " \n",
      " \n",
      " \n",
      " \n",
      "GUIA DE VIAJE \n",
      "BARILOCHE\n",
      "\n",
      "Sugerimos contratar  \n",
      " \n",
      " \n",
      "BARILOCHE \n",
      "Bariloche ofrece una arquitectura única mezclando ma deras y piedras, facilidad para practicar \n",
      "deportes outdoors y aventuras, además probarás una gas tronomía excelente; mezcla europea y \n",
      "argentina, de donde nacen los chocolates más reconocidos de Argentina.  \n",
      "Aire puro, paisajes recónditos y un pueblo en donde se  respira tranquilidad... Bariloche es mucho \n",
      "más que una pequeña ciudad en las tierras patagónicas . Es un mundo perfectamente ordenado y \n",
      "hermoso que debes conocer.  \n",
      " \n",
      "Actividades Generales \n",
      "Deportes \n",
      "Gracias a su diversidad de paisajes y entornos natural es, Bariloche es una ciudad ideal para \n",
      "practicar todo tipo de deportes. Desde esquí en el invi erno, cuando las montañas de la Cordillera de \n",
      "los Andes posan blancas, hasta practicar trekking po r sus hermosos bosques. Sus lagos y ríos son el \n",
      "escenario preciso para los amantes de la pesca artesanal. \n",
      " \n",
      "Gastronomía \n",
      "La cocina en Bariloche es testigo de los antepasados europeos, italianos, alemanes y suizos, con la \n",
      "mezcla de los patagónicos argentinos. Probarás exqui sitas parrillas, asados de cordero al palo y pizzas \n",
      "pero si en algo se ha especializado esta ciudad es en  la fabricación de chocolates artesanales, los más \n",
      "reconocidos de Argentina. \n",
      "             \n",
      "Arte \n",
      "Bariloche cuenta con un importante número de museos,  mercados y ferias que dan cuenta de \n",
      "todo el valor histórico, artístico y artesanal de est as patagónicas tierras. Un clásico imperdible es\n",
      "\n",
      "Sugerimos contratar  \n",
      " \n",
      " \n",
      "Dónde Ir \n",
      "Circuito Chico \n",
      "Un recorrido de paisajes variados que se inicia por el borde del Lago Nahuel Huapi. Lo primero que \n",
      "encontrarás es Playa Bonita, de hermosas aguas azul profundo que se mezclan con el turquesa que \n",
      "llega a sus orillas. Si continuas el camino llegarás a Cerro Campanario, si te animas a llegar a su cumbre, \n",
      "podrás ver casi la totalidad de la región. Podes realiz ar este circuito a pie (hay senderos que guían tu \n",
      "camino) o a caballo. \n",
      " \n",
      "Circuito Grande \n",
      "Abarca 248 kilómetros de miradores, rocas y cerros, b osques tupidos. El punto de partida \n",
      "es Bariloche y ahí debes tomar la ruta Nº 237, hast a el puente del Río Limay. Hasta ahí te habrás \n",
      "maravillado con un cielo de aire puro que contrasta c on el verde del paisaje pero sólo ahí comienza el \n",
      "transcurso hacia la Ruta de los Siete Lagos; siete verdaderos espejos de aguas turquesas y esmeraldas, \n",
      "todos distintos entre sí. Una ruta imperdible que podrá s recorrer en auto, buses de expedición, y si te \n",
      "animas seguir tu propio instinto a pie. \n",
      " \n",
      "Cerro Catedral \n",
      "El Cerro Catedral es uno de los centros de ski más g randes de América del Sur, posee diversas \n",
      "pistas para este deporte, como también para snowboar d. Además, cuenta con una amplia \n",
      "infraestructura hotelera y gastronómica todo mezclado  con una imponente vista desde las alturas. \n",
      "Para el regreso, se puede descender por el Lago Gutiérrez.\n",
      "\n",
      "Sugerimos contratar  \n",
      " \n",
      " \n",
      "Bosque Tallado en El Bolsón \n",
      "A 120 kilómetros de Bariloche se encuentra El Bolsón , localidad que cuenta con el \n",
      "reconocido Bosque Tallado, lugar aprovechado por doce artistas, luego que fuese afectado por un \n",
      "incendio que dejó cientos de troncos dispersos por el l ugar, los que fueron tallados. Se trata de \n",
      "árboles en tonos amarillentos, bordeados por el Cerro  Piltriquitrón y el Río Quemquemtreu, que \n",
      "adornan, aún más, el paisaje.  \n",
      "Cómo moverse \n",
      "En Bariloche la mayoría de las distancias son caminab les, en especial lo que es el centro. También \n",
      "existen dos empresas de colectivo que permiten movil izarse por el centro de la ciudad. Otra opción \n",
      "son los taxis, los que, a diferencia de otras ciudades,  no pueden parar en cualquier calle, ya que \n",
      "cuentan con paraderos específicos. \n",
      "Diversas empresas ofrecen remises, que se solicitan  por teléfono, donde también se pueden \n",
      "consultar anticipadamente las tarifas.  \n",
      "La opción más ecológica es alquilar una bicicleta, lo que es posible en el centro de la ciudad.\u001b[0m\u001b[32;1m\u001b[1;3mParece que ha habido un error al intentar obtener información sobre Jamaica. Sin embargo, puedo proporcionarte información general sobre Jamaica.\n",
      "\n",
      "Jamaica es una isla ubicada en el Mar Caribe, conocida por sus playas de arena blanca, su música reggae y su ambiente relajado. Algunos puntos destacados sobre Jamaica incluyen:\n",
      "\n",
      "1. **Playas:** Jamaica cuenta con algunas de las playas más hermosas del Caribe, como Seven Mile Beach en Negril y Doctor's Cave Beach en Montego Bay.\n",
      "\n",
      "2. **Cultura:** La cultura jamaicana es vibrante y diversa, con influencias africanas, europeas e indígenas. La música reggae, popularizada por Bob Marley, es un elemento central de la cultura jamaicana.\n",
      "\n",
      "3. **Gastronomía:** La comida jamaicana es sabrosa y picante, con platos tradicionales como el jerk chicken, el ackee y saltfish, y el curry de cabra.\n",
      "\n",
      "4. **Actividades:** En Jamaica, puedes disfrutar de una variedad de actividades, como hacer senderismo en las Blue Mountains, visitar las cataratas del río Dunn, bucear en aguas cristalinas o explorar plantaciones de café.\n",
      "\n",
      "5. **Historia:** Jamaica tiene una rica historia que incluye la presencia de los taínos, la colonización española y británica, y la lucha por la independencia.\n",
      "\n",
      "Si estás interesado en más detalles sobre Jamaica o tienes alguna pregunta específica, no dudes en decírmelo. ¡Estaré encantado de ayudarte!\u001b[0m\n",
      "\n",
      "\u001b[1m> Finished chain.\u001b[0m\n"
     ]
    },
    {
     "data": {
      "text/plain": [
       "{'input': 'que me puedes decir de jamica',\n",
       " 'chat_history': [HumanMessage(content='que me puedes decir de jamica', additional_kwargs={}, response_metadata={}),\n",
       "  AIMessage(content='', additional_kwargs={'function_call': {'arguments': '{\"query\":\"Jamaica\"}', 'name': 'GuiaViajeBariloche'}}, response_metadata={'token_usage': {'completion_tokens': 23, 'prompt_tokens': 2074, 'total_tokens': 2097, 'completion_tokens_details': {'accepted_prediction_tokens': 0, 'audio_tokens': 0, 'reasoning_tokens': 0, 'rejected_prediction_tokens': 0}, 'prompt_tokens_details': {'audio_tokens': 0, 'cached_tokens': 0}}, 'model_name': 'gpt-3.5-turbo', 'system_fingerprint': None, 'finish_reason': 'function_call', 'logprobs': None}, id='run-dfca82b8-f75a-4277-9688-a240c56e01ed-0'),\n",
       "  FunctionMessage(content='Sugerimos contratar  \\n \\n \\n \\n \\nGUIA DE VIAJE \\nBARILOCHE\\n\\nSugerimos contratar  \\n \\n \\nBARILOCHE \\nBariloche ofrece una arquitectura única mezclando ma deras y piedras, facilidad para practicar \\ndeportes outdoors y aventuras, además probarás una gas tronomía excelente; mezcla europea y \\nargentina, de donde nacen los chocolates más reconocidos de Argentina.  \\nAire puro, paisajes recónditos y un pueblo en donde se  respira tranquilidad... Bariloche es mucho \\nmás que una pequeña ciudad en las tierras patagónicas . Es un mundo perfectamente ordenado y \\nhermoso que debes conocer.  \\n \\nActividades Generales \\nDeportes \\nGracias a su diversidad de paisajes y entornos natural es, Bariloche es una ciudad ideal para \\npracticar todo tipo de deportes. Desde esquí en el invi erno, cuando las montañas de la Cordillera de \\nlos Andes posan blancas, hasta practicar trekking po r sus hermosos bosques. Sus lagos y ríos son el \\nescenario preciso para los amantes de la pesca artesanal. \\n \\nGastronomía \\nLa cocina en Bariloche es testigo de los antepasados europeos, italianos, alemanes y suizos, con la \\nmezcla de los patagónicos argentinos. Probarás exqui sitas parrillas, asados de cordero al palo y pizzas \\npero si en algo se ha especializado esta ciudad es en  la fabricación de chocolates artesanales, los más \\nreconocidos de Argentina. \\n             \\nArte \\nBariloche cuenta con un importante número de museos,  mercados y ferias que dan cuenta de \\ntodo el valor histórico, artístico y artesanal de est as patagónicas tierras. Un clásico imperdible es\\n\\nSugerimos contratar  \\n \\n \\nDónde Ir \\nCircuito Chico \\nUn recorrido de paisajes variados que se inicia por el borde del Lago Nahuel Huapi. Lo primero que \\nencontrarás es Playa Bonita, de hermosas aguas azul profundo que se mezclan con el turquesa que \\nllega a sus orillas. Si continuas el camino llegarás a Cerro Campanario, si te animas a llegar a su cumbre, \\npodrás ver casi la totalidad de la región. Podes realiz ar este circuito a pie (hay senderos que guían tu \\ncamino) o a caballo. \\n \\nCircuito Grande \\nAbarca 248 kilómetros de miradores, rocas y cerros, b osques tupidos. El punto de partida \\nes Bariloche y ahí debes tomar la ruta Nº 237, hast a el puente del Río Limay. Hasta ahí te habrás \\nmaravillado con un cielo de aire puro que contrasta c on el verde del paisaje pero sólo ahí comienza el \\ntranscurso hacia la Ruta de los Siete Lagos; siete verdaderos espejos de aguas turquesas y esmeraldas, \\ntodos distintos entre sí. Una ruta imperdible que podrá s recorrer en auto, buses de expedición, y si te \\nanimas seguir tu propio instinto a pie. \\n \\nCerro Catedral \\nEl Cerro Catedral es uno de los centros de ski más g randes de América del Sur, posee diversas \\npistas para este deporte, como también para snowboar d. Además, cuenta con una amplia \\ninfraestructura hotelera y gastronómica todo mezclado  con una imponente vista desde las alturas. \\nPara el regreso, se puede descender por el Lago Gutiérrez.\\n\\nSugerimos contratar  \\n \\n \\nBosque Tallado en El Bolsón \\nA 120 kilómetros de Bariloche se encuentra El Bolsón , localidad que cuenta con el \\nreconocido Bosque Tallado, lugar aprovechado por doce artistas, luego que fuese afectado por un \\nincendio que dejó cientos de troncos dispersos por el l ugar, los que fueron tallados. Se trata de \\nárboles en tonos amarillentos, bordeados por el Cerro  Piltriquitrón y el Río Quemquemtreu, que \\nadornan, aún más, el paisaje.  \\nCómo moverse \\nEn Bariloche la mayoría de las distancias son caminab les, en especial lo que es el centro. También \\nexisten dos empresas de colectivo que permiten movil izarse por el centro de la ciudad. Otra opción \\nson los taxis, los que, a diferencia de otras ciudades,  no pueden parar en cualquier calle, ya que \\ncuentan con paraderos específicos. \\nDiversas empresas ofrecen remises, que se solicitan  por teléfono, donde también se pueden \\nconsultar anticipadamente las tarifas.  \\nLa opción más ecológica es alquilar una bicicleta, lo que es posible en el centro de la ciudad.', additional_kwargs={}, response_metadata={}, name='GuiaViajeBariloche'),\n",
       "  AIMessage(content=\"Parece que ha habido un error al intentar obtener información sobre Jamaica. Sin embargo, puedo proporcionarte información general sobre Jamaica.\\n\\nJamaica es una isla ubicada en el Mar Caribe, conocida por sus playas de arena blanca, su música reggae y su ambiente relajado. Algunos puntos destacados sobre Jamaica incluyen:\\n\\n1. **Playas:** Jamaica cuenta con algunas de las playas más hermosas del Caribe, como Seven Mile Beach en Negril y Doctor's Cave Beach en Montego Bay.\\n\\n2. **Cultura:** La cultura jamaicana es vibrante y diversa, con influencias africanas, europeas e indígenas. La música reggae, popularizada por Bob Marley, es un elemento central de la cultura jamaicana.\\n\\n3. **Gastronomía:** La comida jamaicana es sabrosa y picante, con platos tradicionales como el jerk chicken, el ackee y saltfish, y el curry de cabra.\\n\\n4. **Actividades:** En Jamaica, puedes disfrutar de una variedad de actividades, como hacer senderismo en las Blue Mountains, visitar las cataratas del río Dunn, bucear en aguas cristalinas o explorar plantaciones de café.\\n\\n5. **Historia:** Jamaica tiene una rica historia que incluye la presencia de los taínos, la colonización española y británica, y la lucha por la independencia.\\n\\nSi estás interesado en más detalles sobre Jamaica o tienes alguna pregunta específica, no dudes en decírmelo. ¡Estaré encantado de ayudarte!\", additional_kwargs={}, response_metadata={})],\n",
       " 'output': \"Parece que ha habido un error al intentar obtener información sobre Jamaica. Sin embargo, puedo proporcionarte información general sobre Jamaica.\\n\\nJamaica es una isla ubicada en el Mar Caribe, conocida por sus playas de arena blanca, su música reggae y su ambiente relajado. Algunos puntos destacados sobre Jamaica incluyen:\\n\\n1. **Playas:** Jamaica cuenta con algunas de las playas más hermosas del Caribe, como Seven Mile Beach en Negril y Doctor's Cave Beach en Montego Bay.\\n\\n2. **Cultura:** La cultura jamaicana es vibrante y diversa, con influencias africanas, europeas e indígenas. La música reggae, popularizada por Bob Marley, es un elemento central de la cultura jamaicana.\\n\\n3. **Gastronomía:** La comida jamaicana es sabrosa y picante, con platos tradicionales como el jerk chicken, el ackee y saltfish, y el curry de cabra.\\n\\n4. **Actividades:** En Jamaica, puedes disfrutar de una variedad de actividades, como hacer senderismo en las Blue Mountains, visitar las cataratas del río Dunn, bucear en aguas cristalinas o explorar plantaciones de café.\\n\\n5. **Historia:** Jamaica tiene una rica historia que incluye la presencia de los taínos, la colonización española y británica, y la lucha por la independencia.\\n\\nSi estás interesado en más detalles sobre Jamaica o tienes alguna pregunta específica, no dudes en decírmelo. ¡Estaré encantado de ayudarte!\",\n",
       " 'intermediate_steps': [(AgentActionMessageLog(tool='GuiaViajeBariloche', tool_input={'query': 'Jamaica'}, log=\"\\nInvoking: `GuiaViajeBariloche` with `{'query': 'Jamaica'}`\\n\\n\\n\", message_log=[AIMessage(content='', additional_kwargs={'function_call': {'arguments': '{\"query\":\"Jamaica\"}', 'name': 'GuiaViajeBariloche'}}, response_metadata={'token_usage': {'completion_tokens': 23, 'prompt_tokens': 2074, 'total_tokens': 2097, 'completion_tokens_details': {'accepted_prediction_tokens': 0, 'audio_tokens': 0, 'reasoning_tokens': 0, 'rejected_prediction_tokens': 0}, 'prompt_tokens_details': {'audio_tokens': 0, 'cached_tokens': 0}}, 'model_name': 'gpt-3.5-turbo', 'system_fingerprint': None, 'finish_reason': 'function_call', 'logprobs': None}, id='run-dfca82b8-f75a-4277-9688-a240c56e01ed-0')]),\n",
       "   'Sugerimos contratar  \\n \\n \\n \\n \\nGUIA DE VIAJE \\nBARILOCHE\\n\\nSugerimos contratar  \\n \\n \\nBARILOCHE \\nBariloche ofrece una arquitectura única mezclando ma deras y piedras, facilidad para practicar \\ndeportes outdoors y aventuras, además probarás una gas tronomía excelente; mezcla europea y \\nargentina, de donde nacen los chocolates más reconocidos de Argentina.  \\nAire puro, paisajes recónditos y un pueblo en donde se  respira tranquilidad... Bariloche es mucho \\nmás que una pequeña ciudad en las tierras patagónicas . Es un mundo perfectamente ordenado y \\nhermoso que debes conocer.  \\n \\nActividades Generales \\nDeportes \\nGracias a su diversidad de paisajes y entornos natural es, Bariloche es una ciudad ideal para \\npracticar todo tipo de deportes. Desde esquí en el invi erno, cuando las montañas de la Cordillera de \\nlos Andes posan blancas, hasta practicar trekking po r sus hermosos bosques. Sus lagos y ríos son el \\nescenario preciso para los amantes de la pesca artesanal. \\n \\nGastronomía \\nLa cocina en Bariloche es testigo de los antepasados europeos, italianos, alemanes y suizos, con la \\nmezcla de los patagónicos argentinos. Probarás exqui sitas parrillas, asados de cordero al palo y pizzas \\npero si en algo se ha especializado esta ciudad es en  la fabricación de chocolates artesanales, los más \\nreconocidos de Argentina. \\n             \\nArte \\nBariloche cuenta con un importante número de museos,  mercados y ferias que dan cuenta de \\ntodo el valor histórico, artístico y artesanal de est as patagónicas tierras. Un clásico imperdible es\\n\\nSugerimos contratar  \\n \\n \\nDónde Ir \\nCircuito Chico \\nUn recorrido de paisajes variados que se inicia por el borde del Lago Nahuel Huapi. Lo primero que \\nencontrarás es Playa Bonita, de hermosas aguas azul profundo que se mezclan con el turquesa que \\nllega a sus orillas. Si continuas el camino llegarás a Cerro Campanario, si te animas a llegar a su cumbre, \\npodrás ver casi la totalidad de la región. Podes realiz ar este circuito a pie (hay senderos que guían tu \\ncamino) o a caballo. \\n \\nCircuito Grande \\nAbarca 248 kilómetros de miradores, rocas y cerros, b osques tupidos. El punto de partida \\nes Bariloche y ahí debes tomar la ruta Nº 237, hast a el puente del Río Limay. Hasta ahí te habrás \\nmaravillado con un cielo de aire puro que contrasta c on el verde del paisaje pero sólo ahí comienza el \\ntranscurso hacia la Ruta de los Siete Lagos; siete verdaderos espejos de aguas turquesas y esmeraldas, \\ntodos distintos entre sí. Una ruta imperdible que podrá s recorrer en auto, buses de expedición, y si te \\nanimas seguir tu propio instinto a pie. \\n \\nCerro Catedral \\nEl Cerro Catedral es uno de los centros de ski más g randes de América del Sur, posee diversas \\npistas para este deporte, como también para snowboar d. Además, cuenta con una amplia \\ninfraestructura hotelera y gastronómica todo mezclado  con una imponente vista desde las alturas. \\nPara el regreso, se puede descender por el Lago Gutiérrez.\\n\\nSugerimos contratar  \\n \\n \\nBosque Tallado en El Bolsón \\nA 120 kilómetros de Bariloche se encuentra El Bolsón , localidad que cuenta con el \\nreconocido Bosque Tallado, lugar aprovechado por doce artistas, luego que fuese afectado por un \\nincendio que dejó cientos de troncos dispersos por el l ugar, los que fueron tallados. Se trata de \\nárboles en tonos amarillentos, bordeados por el Cerro  Piltriquitrón y el Río Quemquemtreu, que \\nadornan, aún más, el paisaje.  \\nCómo moverse \\nEn Bariloche la mayoría de las distancias son caminab les, en especial lo que es el centro. También \\nexisten dos empresas de colectivo que permiten movil izarse por el centro de la ciudad. Otra opción \\nson los taxis, los que, a diferencia de otras ciudades,  no pueden parar en cualquier calle, ya que \\ncuentan con paraderos específicos. \\nDiversas empresas ofrecen remises, que se solicitan  por teléfono, donde también se pueden \\nconsultar anticipadamente las tarifas.  \\nLa opción más ecológica es alquilar una bicicleta, lo que es posible en el centro de la ciudad.')]}"
      ]
     },
     "execution_count": 37,
     "metadata": {},
     "output_type": "execute_result"
    }
   ],
   "source": [
    "agent_executor({\"input\": \"que me puedes decir de jamica\"})"
   ]
  },
  {
   "cell_type": "markdown",
   "metadata": {},
   "source": [
    "### Sumamos busqueda en internet"
   ]
  },
  {
   "cell_type": "code",
   "execution_count": 38,
   "metadata": {},
   "outputs": [],
   "source": [
    "from langchain import SerpAPIWrapper\n",
    "from langchain.agents import AgentType, initialize_agent\n",
    "from langchain.llms import OpenAI\n",
    "from langchain.tools import BaseTool, StructuredTool, Tool, tool"
   ]
  },
  {
   "cell_type": "code",
   "execution_count": null,
   "metadata": {},
   "outputs": [],
   "source": [
    "key_serpapi = os.environ[\"SERPAPI_API_KEY\"]\n",
    "search = SerpAPIWrapper()"
   ]
  },
  {
   "cell_type": "code",
   "execution_count": null,
   "metadata": {},
   "outputs": [],
   "source": [
    "\n",
    "tools = [\n",
    "    Tool.from_function(\n",
    "        func=search.run,\n",
    "        name=\"Search\",\n",
    "        description=\"Útil para cuando necesitas responder preguntas sobre eventos actuales.\"\n",
    "    ),\n",
    "    create_retriever_tool(\n",
    "    db.as_retriever(),\n",
    "    \"GuiaViajeBariloche\",\n",
    "    \"Buscar y retornar documentos que sobre Bariloche\"\n",
    "    )\n",
    "    ]\n",
    "\n",
    "agent_executor = create_conversational_retrieval_agent(llm, tools, memory_key='chat_history', verbose=True)"
   ]
  },
  {
   "cell_type": "code",
   "execution_count": null,
   "metadata": {},
   "outputs": [],
   "source": [
    "agent_executor({\"input\": \"Cómo está el clima en bariloche?\"})"
   ]
  }
 ],
 "metadata": {
  "kernelspec": {
   "display_name": "venv",
   "language": "python",
   "name": "python3"
  },
  "language_info": {
   "codemirror_mode": {
    "name": "ipython",
    "version": 3
   },
   "file_extension": ".py",
   "mimetype": "text/x-python",
   "name": "python",
   "nbconvert_exporter": "python",
   "pygments_lexer": "ipython3",
   "version": "3.12.8"
  }
 },
 "nbformat": 4,
 "nbformat_minor": 2
}
